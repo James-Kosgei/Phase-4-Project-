{
 "cells": [
  {
   "cell_type": "code",
   "execution_count": 6,
   "metadata": {},
   "outputs": [
    {
     "name": "stdout",
     "output_type": "stream",
     "text": [
      "Notebook content, including images, has been copied to README.md.\n"
     ]
    }
   ],
   "source": [
    "import json\n",
    "import os\n",
    "import base64\n",
    "from PIL import Image\n",
    "from io import BytesIO\n",
    "\n",
    "def save_images_from_notebook(notebook_data, output_folder=\"images\"):\n",
    "    \"\"\"\n",
    "    Extracts image outputs from the notebook and saves them to a folder.\n",
    "    Returns a list of image file paths.\n",
    "    \"\"\"\n",
    "    if not os.path.exists(output_folder):\n",
    "        os.makedirs(output_folder)\n",
    "\n",
    "    image_paths = []\n",
    "    for cell in notebook_data.get(\"cells\", []):\n",
    "        for output in cell.get(\"outputs\", []):\n",
    "            if 'data' in output and 'image/png' in output['data']:\n",
    "                image_data = output['data']['image/png']\n",
    "                image_path = os.path.join(output_folder, f\"image_{len(image_paths)}.png\")\n",
    "                with open(image_path, \"wb\") as img_file:\n",
    "                    img_file.write(base64.b64decode(image_data))\n",
    "                image_paths.append(image_path)\n",
    "    \n",
    "    return image_paths\n",
    "\n",
    "def convert_images_to_markdown(image_paths):\n",
    "    \"\"\"\n",
    "    Converts image paths to Markdown image syntax.\n",
    "    \"\"\"\n",
    "    markdown_images = \"\"\n",
    "    for image_path in image_paths:\n",
    "        # Assuming images are saved in an 'images' folder\n",
    "        markdown_images += f\"![Image]({image_path})\\n\\n\"\n",
    "    return markdown_images\n",
    "\n",
    "def copy_notebook_to_readme(notebook_name, readme_name, output_folder=\"images\"):\n",
    "    # Ensure that the notebook and README file exist in the current directory\n",
    "    if not os.path.isfile(notebook_name):\n",
    "        print(f\"Error: The notebook {notebook_name} does not exist.\")\n",
    "        return\n",
    "    \n",
    "    if not os.path.isfile(readme_name):\n",
    "        print(f\"Error: The README file {readme_name} does not exist.\")\n",
    "        return\n",
    "    \n",
    "    # Read the notebook content\n",
    "    with open(notebook_name, 'r', encoding='utf-8') as notebook_file:\n",
    "        notebook_data = json.load(notebook_file)\n",
    "    \n",
    "    # Extract code and markdown cells\n",
    "    cells = notebook_data.get(\"cells\", [])\n",
    "    content = \"\"\n",
    "    \n",
    "    for cell in cells:\n",
    "        if cell[\"cell_type\"] == \"code\":\n",
    "            content += \"```python\\n\" + \"\".join(cell[\"source\"]) + \"\\n```\\n\"\n",
    "        elif cell[\"cell_type\"] == \"markdown\":\n",
    "            content += \"\".join(cell[\"source\"]) + \"\\n\\n\"\n",
    "    \n",
    "    # Save images and include in the content\n",
    "    image_paths = save_images_from_notebook(notebook_data, output_folder)\n",
    "    markdown_images = convert_images_to_markdown(image_paths)\n",
    "    \n",
    "    content += markdown_images\n",
    "\n",
    "    # Append to README file\n",
    "    with open(readme_name, 'a', encoding='utf-8') as readme_file:\n",
    "        readme_file.write(content)\n",
    "        print(f\"Notebook content, including images, has been copied to {readme_name}.\")\n",
    "\n",
    "# Usage\n",
    "notebook_name = \"idex.ipynb\"  # Change this to your notebook's name\n",
    "readme_name = \"README.md\"  # This is the README file in the same folder\n",
    "copy_notebook_to_readme(notebook_name, readme_name)"
   ]
  }
 ],
 "metadata": {
  "kernelspec": {
   "display_name": "learn-env",
   "language": "python",
   "name": "python3"
  },
  "language_info": {
   "codemirror_mode": {
    "name": "ipython",
    "version": 3
   },
   "file_extension": ".py",
   "mimetype": "text/x-python",
   "name": "python",
   "nbconvert_exporter": "python",
   "pygments_lexer": "ipython3",
   "version": "3.8.5"
  }
 },
 "nbformat": 4,
 "nbformat_minor": 2
}
